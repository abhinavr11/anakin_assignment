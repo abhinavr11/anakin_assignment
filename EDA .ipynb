{
 "cells": [
  {
   "cell_type": "code",
   "execution_count": 1,
   "id": "8c70afe3",
   "metadata": {},
   "outputs": [],
   "source": [
    "import requests\n",
    "from bs4 import BeautifulSoup\n",
    "from urllib.request import Request, urlopen\n",
    "import time\n",
    "from selenium import webdriver\n",
    "from selenium.webdriver.support.ui import WebDriverWait\n",
    "from bs4 import BeautifulSoup\n",
    "from selenium.webdriver.chrome.options import Options\n",
    "from IPython.display import clear_output\n",
    "import pickle\n",
    "from datetime import datetime\n",
    "import json\n",
    "import matplotlib.pyplot as plt\n",
    "import numpy as np"
   ]
  },
  {
   "cell_type": "code",
   "execution_count": 2,
   "id": "10e604a9",
   "metadata": {},
   "outputs": [],
   "source": [
    "f = open('BigBasketData.json')\n",
    "data = json.load(f)\n",
    "f.close()"
   ]
  },
  {
   "cell_type": "code",
   "execution_count": 6,
   "id": "c57c717c",
   "metadata": {},
   "outputs": [
    {
     "name": "stdout",
     "output_type": "stream",
     "text": [
      "<==========Companies with 50 or more products selling on BB=============>\n",
      " Please refer to the individual product information given above\n",
      " 71\n",
      "Papas Trading Pvt ltd 100\n",
      " Kaira District Co-operative Milk Producers' Union Limited 50\n",
      " 1. Procter & Gamble Home Products Pvt. Ltd. 52\n",
      " Bangalore Papa's Trading No 39/40 93\n",
      " Hindustan Unilever Limited 107\n",
      " Please refer to the individual product information given above 150\n",
      " WINGREENS FARMS PVT LTD 67\n",
      " Munchkin 54\n",
      " Bigbasket Country of origin 54\n",
      " Hindustan Unilever Ltd 56\n",
      " Bliss Chocolates India Pvt Ltd No 52\n",
      " NESTLE INDIA LIMITED 84\n",
      " Johnson & Johnson Pvt. Ltd.  61\n",
      " ITC Limited 62\n"
     ]
    },
    {
     "data": {
      "image/png": "[encoded data removed]",
      "text/plain": [
       "<Figure size 432x288 with 1 Axes>"
      ]
     },
     "metadata": {
      "needs_background": "light"
     },
     "output_type": "display_data"
    }
   ],
   "source": [
    "sellers = []\n",
    "frequent_sellers = []\n",
    "for prd in data:\n",
    "    sellers.append(prd['seller_name'])\n",
    "\n",
    "xpoints = []\n",
    "ypoints = []\n",
    "print('<==========Companies with 50 or more products selling on BB=============>')\n",
    "for idx,slr in enumerate(set(sellers)):\n",
    "    \n",
    "   \n",
    "    if slr is None:\n",
    "        continue\n",
    "    \n",
    "    if sellers.count(slr) >=50:\n",
    "        print(slr,sellers.count(slr))\n",
    "        frequent_sellers.append(slr)\n",
    "        \n",
    "        \n",
    "    xpoints.append(idx/1000)\n",
    "    ypoints.append(sellers.count(slr))\n",
    "\n",
    "\n",
    "plt.plot(xpoints, ypoints, 'o')\n",
    "plt.show()"
   ]
  },
  {
   "cell_type": "code",
   "execution_count": 12,
   "id": "72e9980e",
   "metadata": {},
   "outputs": [],
   "source": [
    "fs_dat = []\n",
    "for fs in frequent_sellers:\n",
    "    sum_dprice = 0\n",
    "    sum_discount = 0\n",
    "    sum_rating = 0\n",
    "    \n",
    "    dprice_c = 0 \n",
    "    discount_c = 0\n",
    "    rating_c = 0\n",
    "    for x in data:\n",
    "        if x['seller_name'] == fs:\n",
    "            \n",
    "            if x['discounted_price'] != -1:\n",
    "                sum_dprice += x['discounted_price']\n",
    "                dprice_c += 1\n",
    "            \n",
    "            if x['discount'] != 0:\n",
    "                sum_discount += x['discount']\n",
    "                discount_c += 1\n",
    "                    \n",
    "            if x['rating'] != 0:\n",
    "                sum_rating += x['rating']\n",
    "                rating_c += 1\n",
    "                \n",
    "    if dprice_c == 0:\n",
    "        dprice_c = 1\n",
    "    if discount_c == 0 :\n",
    "        discount_c = 1\n",
    "    if rating_c == 0:\n",
    "        rating_c =1\n",
    "        \n",
    "    fs_dat.append({\"Seller\": fs, \"Average Discounted/Selling Price\" : sum_dprice/dprice_c ,\n",
    "                   \"Average Discount\": sum_discount/discount_c ,\n",
    "                   \"Average Rating\":sum_rating/rating_c})\n",
    "    "
   ]
  },
  {
   "cell_type": "markdown",
   "id": "df0c441b",
   "metadata": {},
   "source": [
    "## Frequent Sellers and their label mapping\n",
    "\n",
    "0. Please refer to the individual product information given above <br>\n",
    "1. Papas Trading Pvt ltd <br>\n",
    "2. Kaira District Co-operative Milk Producers' Union Limited <br>\n",
    "3. 1. Procter & Gamble Home Products Pvt. Ltd. <br>\n",
    "4. Bangalore Papa's Trading No 39/40 <br>\n",
    "5. Hindustan Unilever Limited <br>\n",
    "6. Please refer to the individual product information given above <br>\n",
    "7.  WINGREENS FARMS PVT LTD <br>\n",
    "8. Munchkin <br>\n",
    "9. Bigbasket Country of origin <br>\n",
    "10. Hindustan Unilever Ltd <br>\n",
    "11. Bliss Chocolates India Pvt Ltd No <br>\n",
    "12. NESTLE INDIA LIMITED <br>\n",
    "13. Johnson & Johnson Pvt. Ltd. <br>\n",
    "14. ITC Limited <br>\n",
    "\n",
    "*Note that Frequent Sellers is defined by Companies/Sellers with more than 50 products on BigBasket*"
   ]
  },
  {
   "cell_type": "code",
   "execution_count": 26,
   "id": "b764f743",
   "metadata": {},
   "outputs": [
    {
     "data": {
      "image/png": "[encoded data removed]",
      "text/plain": [
       "<Figure size 432x288 with 1 Axes>"
      ]
     },
     "metadata": {
      "needs_background": "light"
     },
     "output_type": "display_data"
    }
   ],
   "source": [
    "y1 = [x['Average Discounted/Selling Price'] for x in fs_dat]\n",
    "y2 = [x['Average Discount'] for x in fs_dat]\n",
    "y3 = [x['Average Rating'] for x in fs_dat]\n",
    "\n",
    "plt.plot(y1,marker='o', color='b')\n",
    "plt.plot(y2,marker='o', color='g')\n",
    "plt.plot(y3,marker='o', color='y')\n",
    "plt.legend([\"Avg Discounted/SP\", \"Avg Discount\",\"Avg Rating\"], loc =\"upper right\")\n",
    "plt.show()\n"
   ]
  },
  {
   "cell_type": "code",
   "execution_count": null,
   "id": "724219dd",
   "metadata": {},
   "outputs": [],
   "source": []
  }
 ],
 "metadata": {
  "kernelspec": {
   "display_name": "Python 3 (ipykernel)",
   "language": "python",
   "name": "python3"
  },
  "language_info": {
   "codemirror_mode": {
    "name": "ipython",
    "version": 3
   },
   "file_extension": ".py",
   "mimetype": "text/x-python",
   "name": "python",
   "nbconvert_exporter": "python",
   "pygments_lexer": "ipython3",
   "version": "3.9.2"
  }
 },
 "nbformat": 4,
 "nbformat_minor": 5
}
